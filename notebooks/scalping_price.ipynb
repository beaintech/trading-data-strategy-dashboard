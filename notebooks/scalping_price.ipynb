{
 "cells": [
  {
   "cell_type": "code",
   "execution_count": 2,
   "metadata": {},
   "outputs": [
    {
     "name": "stdout",
     "output_type": "stream",
     "text": [
      "Collecting plotly\n",
      "  Downloading plotly-6.3.0-py3-none-any.whl.metadata (8.5 kB)\n",
      "Collecting narwhals>=1.15.1 (from plotly)\n",
      "  Downloading narwhals-2.3.0-py3-none-any.whl.metadata (11 kB)\n",
      "Requirement already satisfied: packaging in /Users/bea/Desktop/trading_project/.venv/lib/python3.9/site-packages (from plotly) (25.0)\n",
      "Downloading plotly-6.3.0-py3-none-any.whl (9.8 MB)\n",
      "\u001b[2K   \u001b[90m━━━━━━━━━━━━━━━━━━━━━━━━━━━━━━━━━━━━━━━━\u001b[0m \u001b[32m9.8/9.8 MB\u001b[0m \u001b[31m20.2 MB/s\u001b[0m  \u001b[33m0:00:00\u001b[0m eta \u001b[36m0:00:01\u001b[0m\n",
      "\u001b[?25hDownloading narwhals-2.3.0-py3-none-any.whl (404 kB)\n",
      "Installing collected packages: narwhals, plotly\n",
      "\u001b[2K   \u001b[90m━━━━━━━━━━━━━━━━━━━━━━━━━━━━━━━━━━━━━━━━\u001b[0m \u001b[32m2/2\u001b[0m [plotly]2m1/2\u001b[0m [plotly]\n",
      "\u001b[1A\u001b[2KSuccessfully installed narwhals-2.3.0 plotly-6.3.0\n",
      "Note: you may need to restart the kernel to use updated packages.\n"
     ]
    }
   ],
   "source": [
    "pip install plotly"
   ]
  },
  {
   "cell_type": "code",
   "execution_count": null,
   "metadata": {},
   "outputs": [
    {
     "name": "stdout",
     "output_type": "stream",
     "text": [
      "⬇️ Downloading AAPL ...\n"
     ]
    },
    {
     "name": "stderr",
     "output_type": "stream",
     "text": [
      "/Users/bea/Desktop/trading_project/src/backtest_compare.py:46: FutureWarning: YF.download() has changed argument auto_adjust default to True\n",
      "  df = yf.download(sym, start=start, interval=interval)\n",
      "[*********************100%***********************]  1 of 1 completed\n",
      "/Users/bea/Desktop/trading_project/src/backtest_compare.py:46: FutureWarning: YF.download() has changed argument auto_adjust default to True\n",
      "  df = yf.download(sym, start=start, interval=interval)\n",
      "[*********************100%***********************]  1 of 1 completed\n",
      "/Users/bea/Desktop/trading_project/src/backtest_compare.py:46: FutureWarning: YF.download() has changed argument auto_adjust default to True\n",
      "  df = yf.download(sym, start=start, interval=interval)\n"
     ]
    },
    {
     "name": "stdout",
     "output_type": "stream",
     "text": [
      "⬇️ Downloading TSLA ...\n",
      "⬇️ Downloading NVDA ...\n"
     ]
    },
    {
     "name": "stderr",
     "output_type": "stream",
     "text": [
      "[*********************100%***********************]  1 of 1 completed\n",
      "/Users/bea/Desktop/trading_project/src/backtest_compare.py:46: FutureWarning: YF.download() has changed argument auto_adjust default to True\n",
      "  df = yf.download(sym, start=start, interval=interval)\n"
     ]
    },
    {
     "name": "stdout",
     "output_type": "stream",
     "text": [
      "⬇️ Downloading JNJ ...\n"
     ]
    },
    {
     "name": "stderr",
     "output_type": "stream",
     "text": [
      "[*********************100%***********************]  1 of 1 completed\n",
      "/Users/bea/Desktop/trading_project/src/backtest_compare.py:46: FutureWarning: YF.download() has changed argument auto_adjust default to True\n",
      "  df = yf.download(sym, start=start, interval=interval)\n"
     ]
    },
    {
     "name": "stdout",
     "output_type": "stream",
     "text": [
      "⬇️ Downloading KO ...\n"
     ]
    },
    {
     "name": "stderr",
     "output_type": "stream",
     "text": [
      "[*********************100%***********************]  1 of 1 completed\n",
      "/Users/bea/Desktop/trading_project/src/backtest_compare.py:46: FutureWarning: YF.download() has changed argument auto_adjust default to True\n",
      "  df = yf.download(sym, start=start, interval=interval)\n"
     ]
    },
    {
     "name": "stdout",
     "output_type": "stream",
     "text": [
      "⬇️ Downloading PG ...\n"
     ]
    },
    {
     "name": "stderr",
     "output_type": "stream",
     "text": [
      "[*********************100%***********************]  1 of 1 completed\n",
      "/Users/bea/Desktop/trading_project/src/backtest_compare.py:46: FutureWarning: YF.download() has changed argument auto_adjust default to True\n",
      "  df = yf.download(sym, start=start, interval=interval)\n",
      "[*********************100%***********************]  1 of 1 completed\n",
      "/Users/bea/Desktop/trading_project/src/backtest_compare.py:46: FutureWarning: YF.download() has changed argument auto_adjust default to True\n",
      "  df = yf.download(sym, start=start, interval=interval)\n"
     ]
    },
    {
     "name": "stdout",
     "output_type": "stream",
     "text": [
      "⬇️ Downloading AMZN ...\n",
      "⬇️ Downloading META ...\n"
     ]
    },
    {
     "name": "stderr",
     "output_type": "stream",
     "text": [
      "[*********************100%***********************]  1 of 1 completed\n",
      "/Users/bea/Desktop/trading_project/src/backtest_compare.py:46: FutureWarning: YF.download() has changed argument auto_adjust default to True\n",
      "  df = yf.download(sym, start=start, interval=interval)\n",
      "[*********************100%***********************]  1 of 1 completed\n",
      "/Users/bea/Desktop/trading_project/src/backtest_compare.py:46: FutureWarning: YF.download() has changed argument auto_adjust default to True\n",
      "  df = yf.download(sym, start=start, interval=interval)\n"
     ]
    },
    {
     "name": "stdout",
     "output_type": "stream",
     "text": [
      "⬇️ Downloading NFLX ...\n",
      "Price       Date        Close         High          Low         Open   Volume  \\\n",
      "3748  2025-08-25  1218.069946  1233.800049  1199.000000  1201.650024  2812000   \n",
      "3749  2025-08-26  1226.089966  1231.500000  1212.199951  1220.209961  1985700   \n",
      "3750  2025-08-27  1223.500000  1229.209961  1213.000000  1223.609985  1664500   \n",
      "3751  2025-08-28  1231.449951  1237.890015  1214.270020  1222.790039  1950300   \n",
      "3752  2025-08-29  1208.250000  1228.790039  1201.150024  1227.969971  3209800   \n",
      "\n",
      "Price     EMA_fast     EMA_slow        RSI        H-L        H-C        L-C  \\\n",
      "3748   1213.279416  1211.088415  68.209158  34.800049  29.150024   5.650024   \n",
      "3749   1215.608607  1212.517134  63.988944  19.300049  13.430054   5.869995   \n",
      "3750   1217.043405  1213.563121  62.620708  16.209961   3.119995  13.089966   \n",
      "3751   1219.662777  1215.266629  56.712960  23.619995  14.390015   9.229980   \n",
      "3752   1217.587727  1214.598378  46.934401  27.640015   2.659912  30.299927   \n",
      "\n",
      "Price         TR        ATR          BBM          BBU          BBL Symbol  \n",
      "3748   34.800049  28.669277  1209.195329  1246.567328  1171.823329   NFLX  \n",
      "3749   19.300049  27.654279  1214.409993  1242.205159  1186.614828   NFLX  \n",
      "3750   16.209961  27.167847  1217.411328  1241.004936  1193.817720   NFLX  \n",
      "3751   23.619995  26.444990  1220.816659  1239.252151  1202.381166   NFLX  \n",
      "3752   30.299927  27.099278  1220.590658  1239.341405  1201.839910   NFLX  \n",
      "⬇️ Downloading AAPL ...\n"
     ]
    },
    {
     "name": "stderr",
     "output_type": "stream",
     "text": [
      "[*********************100%***********************]  1 of 1 completed\n",
      "/Users/bea/Desktop/trading_project/src/backtest_compare.py:46: FutureWarning: YF.download() has changed argument auto_adjust default to True\n",
      "  df = yf.download(sym, start=start, interval=interval)\n"
     ]
    },
    {
     "name": "stdout",
     "output_type": "stream",
     "text": [
      "⬇️ Downloading TSLA ...\n"
     ]
    },
    {
     "name": "stderr",
     "output_type": "stream",
     "text": [
      "[*********************100%***********************]  1 of 1 completed\n",
      "/Users/bea/Desktop/trading_project/src/backtest_compare.py:46: FutureWarning: YF.download() has changed argument auto_adjust default to True\n",
      "  df = yf.download(sym, start=start, interval=interval)\n"
     ]
    },
    {
     "name": "stdout",
     "output_type": "stream",
     "text": [
      "⬇️ Downloading NVDA ...\n"
     ]
    },
    {
     "name": "stderr",
     "output_type": "stream",
     "text": [
      "[*********************100%***********************]  1 of 1 completed\n",
      "/Users/bea/Desktop/trading_project/src/backtest_compare.py:46: FutureWarning: YF.download() has changed argument auto_adjust default to True\n",
      "  df = yf.download(sym, start=start, interval=interval)\n"
     ]
    },
    {
     "name": "stdout",
     "output_type": "stream",
     "text": [
      "⬇️ Downloading JNJ ...\n"
     ]
    },
    {
     "name": "stderr",
     "output_type": "stream",
     "text": [
      "[*********************100%***********************]  1 of 1 completed\n",
      "/Users/bea/Desktop/trading_project/src/backtest_compare.py:46: FutureWarning: YF.download() has changed argument auto_adjust default to True\n",
      "  df = yf.download(sym, start=start, interval=interval)\n"
     ]
    },
    {
     "name": "stdout",
     "output_type": "stream",
     "text": [
      "⬇️ Downloading KO ...\n"
     ]
    },
    {
     "name": "stderr",
     "output_type": "stream",
     "text": [
      "[*********************100%***********************]  1 of 1 completed\n",
      "/Users/bea/Desktop/trading_project/src/backtest_compare.py:46: FutureWarning: YF.download() has changed argument auto_adjust default to True\n",
      "  df = yf.download(sym, start=start, interval=interval)\n"
     ]
    },
    {
     "name": "stdout",
     "output_type": "stream",
     "text": [
      "⬇️ Downloading PG ...\n"
     ]
    },
    {
     "name": "stderr",
     "output_type": "stream",
     "text": [
      "[*********************100%***********************]  1 of 1 completed\n",
      "/Users/bea/Desktop/trading_project/src/backtest_compare.py:46: FutureWarning: YF.download() has changed argument auto_adjust default to True\n",
      "  df = yf.download(sym, start=start, interval=interval)\n",
      "[*********************100%***********************]  1 of 1 completed\n",
      "/Users/bea/Desktop/trading_project/src/backtest_compare.py:46: FutureWarning: YF.download() has changed argument auto_adjust default to True\n",
      "  df = yf.download(sym, start=start, interval=interval)\n"
     ]
    },
    {
     "name": "stdout",
     "output_type": "stream",
     "text": [
      "⬇️ Downloading AMZN ...\n",
      "⬇️ Downloading META ...\n"
     ]
    },
    {
     "name": "stderr",
     "output_type": "stream",
     "text": [
      "[*********************100%***********************]  1 of 1 completed\n",
      "/Users/bea/Desktop/trading_project/src/backtest_compare.py:46: FutureWarning: YF.download() has changed argument auto_adjust default to True\n",
      "  df = yf.download(sym, start=start, interval=interval)\n",
      "[*********************100%***********************]  1 of 1 completed"
     ]
    },
    {
     "name": "stdout",
     "output_type": "stream",
     "text": [
      "⬇️ Downloading NFLX ...\n"
     ]
    },
    {
     "name": "stderr",
     "output_type": "stream",
     "text": [
      "\n"
     ]
    },
    {
     "name": "stdout",
     "output_type": "stream",
     "text": [
      "Price       Date       Close        High         Low        Open    Volume  \\\n",
      "0     2024-01-02  184.081512  186.858009  182.346204  185.578830  82488700   \n",
      "1     2024-01-03  182.703201  184.319522  181.890078  182.673454  58414500   \n",
      "2     2024-01-04  180.382828  181.552914  179.361476  180.620803  71983600   \n",
      "3     2024-01-05  179.658936  181.225673  178.657420  180.462148  62379700   \n",
      "4     2024-01-08  184.002151  184.041824  179.976239  180.561282  59144500   \n",
      "\n",
      "Price    EMA_fast    EMA_slow  RSI       H-L       H-C       L-C        TR  \\\n",
      "0      184.081512  184.081512  NaN  4.511805       NaN       NaN  4.511805   \n",
      "1      183.830910  183.950245  NaN  2.429444  0.238010  2.191434  2.429444   \n",
      "2      183.203986  183.610491  NaN  2.191438  1.150287  3.341725  3.341725   \n",
      "3      182.559432  183.234152  NaN  2.568253  0.842845  1.725408  2.568253   \n",
      "4      182.821744  183.307295  NaN  4.065585  4.382889  0.317304  4.382889   \n",
      "\n",
      "Price  ATR  BBM  BBU  BBL Symbol  \n",
      "0      NaN  NaN  NaN  NaN   AAPL  \n",
      "1      NaN  NaN  NaN  NaN   AAPL  \n",
      "2      NaN  NaN  NaN  NaN   AAPL  \n",
      "3      NaN  NaN  NaN  NaN   AAPL  \n",
      "4      NaN  NaN  NaN  NaN   AAPL  \n"
     ]
    },
    {
     "ename": "ValueError",
     "evalue": "Mime type rendering requires nbformat>=4.2.0 but it is not installed",
     "output_type": "error",
     "traceback": [
      "\u001b[0;31m---------------------------------------------------------------------------\u001b[0m",
      "\u001b[0;31mValueError\u001b[0m                                Traceback (most recent call last)",
      "Cell \u001b[0;32mIn[5], line 23\u001b[0m\n\u001b[1;32m     12\u001b[0m df \u001b[38;5;241m=\u001b[39m data[data[\u001b[38;5;124m\"\u001b[39m\u001b[38;5;124mSymbol\u001b[39m\u001b[38;5;124m\"\u001b[39m] \u001b[38;5;241m==\u001b[39m sym]\n\u001b[1;32m     14\u001b[0m fig \u001b[38;5;241m=\u001b[39m go\u001b[38;5;241m.\u001b[39mFigure(data\u001b[38;5;241m=\u001b[39m[\n\u001b[1;32m     15\u001b[0m     go\u001b[38;5;241m.\u001b[39mCandlestick(x\u001b[38;5;241m=\u001b[39mdf[\u001b[38;5;124m\"\u001b[39m\u001b[38;5;124mDate\u001b[39m\u001b[38;5;124m\"\u001b[39m],\n\u001b[1;32m     16\u001b[0m                    \u001b[38;5;28mopen\u001b[39m\u001b[38;5;241m=\u001b[39mdf[\u001b[38;5;124m\"\u001b[39m\u001b[38;5;124mOpen\u001b[39m\u001b[38;5;124m\"\u001b[39m],\n\u001b[0;32m   (...)\u001b[0m\n\u001b[1;32m     21\u001b[0m     go\u001b[38;5;241m.\u001b[39mScatter(x\u001b[38;5;241m=\u001b[39mdf[\u001b[38;5;124m\"\u001b[39m\u001b[38;5;124mDate\u001b[39m\u001b[38;5;124m\"\u001b[39m], y\u001b[38;5;241m=\u001b[39mdf[\u001b[38;5;124m\"\u001b[39m\u001b[38;5;124mEMA_slow\u001b[39m\u001b[38;5;124m\"\u001b[39m], line\u001b[38;5;241m=\u001b[39m\u001b[38;5;28mdict\u001b[39m(color\u001b[38;5;241m=\u001b[39m\u001b[38;5;124m\"\u001b[39m\u001b[38;5;124mred\u001b[39m\u001b[38;5;124m\"\u001b[39m), name\u001b[38;5;241m=\u001b[39m\u001b[38;5;124m\"\u001b[39m\u001b[38;5;124mEMA Slow\u001b[39m\u001b[38;5;124m\"\u001b[39m)\n\u001b[1;32m     22\u001b[0m ])\n\u001b[0;32m---> 23\u001b[0m \u001b[43mfig\u001b[49m\u001b[38;5;241;43m.\u001b[39;49m\u001b[43mshow\u001b[49m\u001b[43m(\u001b[49m\u001b[43m)\u001b[49m\n",
      "File \u001b[0;32m~/Desktop/trading_project/.venv/lib/python3.9/site-packages/plotly/basedatatypes.py:3420\u001b[0m, in \u001b[0;36mBaseFigure.show\u001b[0;34m(self, *args, **kwargs)\u001b[0m\n\u001b[1;32m   3387\u001b[0m \u001b[38;5;250m\u001b[39m\u001b[38;5;124;03m\"\"\"\u001b[39;00m\n\u001b[1;32m   3388\u001b[0m \u001b[38;5;124;03mShow a figure using either the default renderer(s) or the renderer(s)\u001b[39;00m\n\u001b[1;32m   3389\u001b[0m \u001b[38;5;124;03mspecified by the renderer argument\u001b[39;00m\n\u001b[0;32m   (...)\u001b[0m\n\u001b[1;32m   3416\u001b[0m \u001b[38;5;124;03mNone\u001b[39;00m\n\u001b[1;32m   3417\u001b[0m \u001b[38;5;124;03m\"\"\"\u001b[39;00m\n\u001b[1;32m   3418\u001b[0m \u001b[38;5;28;01mimport\u001b[39;00m\u001b[38;5;250m \u001b[39m\u001b[38;5;21;01mplotly\u001b[39;00m\u001b[38;5;21;01m.\u001b[39;00m\u001b[38;5;21;01mio\u001b[39;00m\u001b[38;5;250m \u001b[39m\u001b[38;5;28;01mas\u001b[39;00m\u001b[38;5;250m \u001b[39m\u001b[38;5;21;01mpio\u001b[39;00m\n\u001b[0;32m-> 3420\u001b[0m \u001b[38;5;28;01mreturn\u001b[39;00m \u001b[43mpio\u001b[49m\u001b[38;5;241;43m.\u001b[39;49m\u001b[43mshow\u001b[49m\u001b[43m(\u001b[49m\u001b[38;5;28;43mself\u001b[39;49m\u001b[43m,\u001b[49m\u001b[43m \u001b[49m\u001b[38;5;241;43m*\u001b[39;49m\u001b[43margs\u001b[49m\u001b[43m,\u001b[49m\u001b[43m \u001b[49m\u001b[38;5;241;43m*\u001b[39;49m\u001b[38;5;241;43m*\u001b[39;49m\u001b[43mkwargs\u001b[49m\u001b[43m)\u001b[49m\n",
      "File \u001b[0;32m~/Desktop/trading_project/.venv/lib/python3.9/site-packages/plotly/io/_renderers.py:415\u001b[0m, in \u001b[0;36mshow\u001b[0;34m(fig, renderer, validate, **kwargs)\u001b[0m\n\u001b[1;32m    410\u001b[0m     \u001b[38;5;28;01mraise\u001b[39;00m \u001b[38;5;167;01mValueError\u001b[39;00m(\n\u001b[1;32m    411\u001b[0m         \u001b[38;5;124m\"\u001b[39m\u001b[38;5;124mMime type rendering requires ipython but it is not installed\u001b[39m\u001b[38;5;124m\"\u001b[39m\n\u001b[1;32m    412\u001b[0m     )\n\u001b[1;32m    414\u001b[0m \u001b[38;5;28;01mif\u001b[39;00m \u001b[38;5;129;01mnot\u001b[39;00m nbformat \u001b[38;5;129;01mor\u001b[39;00m Version(nbformat\u001b[38;5;241m.\u001b[39m__version__) \u001b[38;5;241m<\u001b[39m Version(\u001b[38;5;124m\"\u001b[39m\u001b[38;5;124m4.2.0\u001b[39m\u001b[38;5;124m\"\u001b[39m):\n\u001b[0;32m--> 415\u001b[0m     \u001b[38;5;28;01mraise\u001b[39;00m \u001b[38;5;167;01mValueError\u001b[39;00m(\n\u001b[1;32m    416\u001b[0m         \u001b[38;5;124m\"\u001b[39m\u001b[38;5;124mMime type rendering requires nbformat>=4.2.0 but it is not installed\u001b[39m\u001b[38;5;124m\"\u001b[39m\n\u001b[1;32m    417\u001b[0m     )\n\u001b[1;32m    419\u001b[0m display_jupyter_version_warnings()\n\u001b[1;32m    421\u001b[0m ipython_display\u001b[38;5;241m.\u001b[39mdisplay(bundle, raw\u001b[38;5;241m=\u001b[39m\u001b[38;5;28;01mTrue\u001b[39;00m)\n",
      "\u001b[0;31mValueError\u001b[0m: Mime type rendering requires nbformat>=4.2.0 but it is not installed"
     ]
    }
   ],
   "source": [
    "import plotly.graph_objects as go\n",
    "from backtest_compare import fetch_prices\n",
    "\n",
    "# 价格走势 + 指标对比\n",
    "symbols = [\"AAPL\", \"TSLA\", \"NVDA\", \"JNJ\", \"KO\", \"PG\", \"AMZN\", \"META\", \"NFLX\"]\n",
    "\n",
    "# 运行你写好的 fetch_prices 函数\n",
    "data = fetch_prices(symbols, start=\"2024-01-01\", interval=\"1d\")\n",
    "\n",
    "print(data.head())  # 确认数据已经抓下来了\n",
    "\n",
    "sym = \"AAPL\"\n",
    "df = data[data[\"Symbol\"] == sym]\n",
    "\n",
    "fig = go.Figure(data=[\n",
    "    go.Candlestick(x=df[\"Date\"],\n",
    "                   open=df[\"Open\"],\n",
    "                   high=df[\"High\"],\n",
    "                   low=df[\"Low\"],\n",
    "                   close=df[\"Close\"]),\n",
    "    go.Scatter(x=df[\"Date\"], y=df[\"EMA_fast\"], line=dict(color=\"blue\"), name=\"EMA Fast\"),\n",
    "    go.Scatter(x=df[\"Date\"], y=df[\"EMA_slow\"], line=dict(color=\"red\"), name=\"EMA Slow\")\n",
    "])\n",
    "fig.show()"
   ]
  },
  {
   "cell_type": "code",
   "execution_count": 7,
   "metadata": {},
   "outputs": [
    {
     "name": "stdout",
     "output_type": "stream",
     "text": [
      "Collecting matplotlib\n",
      "  Downloading matplotlib-3.9.4-cp39-cp39-macosx_10_12_x86_64.whl.metadata (11 kB)\n",
      "Collecting contourpy>=1.0.1 (from matplotlib)\n",
      "  Downloading contourpy-1.3.0-cp39-cp39-macosx_10_9_x86_64.whl.metadata (5.4 kB)\n",
      "Collecting cycler>=0.10 (from matplotlib)\n",
      "  Downloading cycler-0.12.1-py3-none-any.whl.metadata (3.8 kB)\n",
      "Collecting fonttools>=4.22.0 (from matplotlib)\n",
      "  Downloading fonttools-4.59.2-cp39-cp39-macosx_10_9_x86_64.whl.metadata (109 kB)\n",
      "Collecting kiwisolver>=1.3.1 (from matplotlib)\n",
      "  Downloading kiwisolver-1.4.7-cp39-cp39-macosx_10_9_x86_64.whl.metadata (6.3 kB)\n",
      "Requirement already satisfied: numpy>=1.23 in /Users/bea/Desktop/trading_project/.venv/lib/python3.9/site-packages (from matplotlib) (2.0.2)\n",
      "Requirement already satisfied: packaging>=20.0 in /Users/bea/Desktop/trading_project/.venv/lib/python3.9/site-packages (from matplotlib) (25.0)\n",
      "Collecting pillow>=8 (from matplotlib)\n",
      "  Downloading pillow-11.3.0-cp39-cp39-macosx_10_10_x86_64.whl.metadata (9.0 kB)\n",
      "Collecting pyparsing>=2.3.1 (from matplotlib)\n",
      "  Downloading pyparsing-3.2.3-py3-none-any.whl.metadata (5.0 kB)\n",
      "Requirement already satisfied: python-dateutil>=2.7 in /Users/bea/Desktop/trading_project/.venv/lib/python3.9/site-packages (from matplotlib) (2.9.0.post0)\n",
      "Collecting importlib-resources>=3.2.0 (from matplotlib)\n",
      "  Downloading importlib_resources-6.5.2-py3-none-any.whl.metadata (3.9 kB)\n",
      "Requirement already satisfied: zipp>=3.1.0 in /Users/bea/Desktop/trading_project/.venv/lib/python3.9/site-packages (from importlib-resources>=3.2.0->matplotlib) (3.23.0)\n",
      "Requirement already satisfied: six>=1.5 in /Users/bea/Desktop/trading_project/.venv/lib/python3.9/site-packages (from python-dateutil>=2.7->matplotlib) (1.17.0)\n",
      "Downloading matplotlib-3.9.4-cp39-cp39-macosx_10_12_x86_64.whl (7.9 MB)\n",
      "\u001b[2K   \u001b[90m━━━━━━━━━━━━━━━━━━━━━━━━━━━━━━━━━━━━━━━━\u001b[0m \u001b[32m7.9/7.9 MB\u001b[0m \u001b[31m8.1 MB/s\u001b[0m  \u001b[33m0:00:00\u001b[0m eta \u001b[36m0:00:01\u001b[0m\n",
      "\u001b[?25hDownloading contourpy-1.3.0-cp39-cp39-macosx_10_9_x86_64.whl (265 kB)\n",
      "Downloading cycler-0.12.1-py3-none-any.whl (8.3 kB)\n",
      "Downloading fonttools-4.59.2-cp39-cp39-macosx_10_9_x86_64.whl (2.3 MB)\n",
      "\u001b[2K   \u001b[90m━━━━━━━━━━━━━━━━━━━━━━━━━━━━━━━━━━━━━━━━\u001b[0m \u001b[32m2.3/2.3 MB\u001b[0m \u001b[31m14.1 MB/s\u001b[0m  \u001b[33m0:00:00\u001b[0m\n",
      "\u001b[?25hDownloading importlib_resources-6.5.2-py3-none-any.whl (37 kB)\n",
      "Downloading kiwisolver-1.4.7-cp39-cp39-macosx_10_9_x86_64.whl (65 kB)\n",
      "Downloading pillow-11.3.0-cp39-cp39-macosx_10_10_x86_64.whl (5.3 MB)\n",
      "\u001b[2K   \u001b[90m━━━━━━━━━━━━━━━━━━━━━━━━━━━━━━━━━━━━━━━━\u001b[0m \u001b[32m5.3/5.3 MB\u001b[0m \u001b[31m13.0 MB/s\u001b[0m  \u001b[33m0:00:00\u001b[0m eta \u001b[36m0:00:01\u001b[0m\n",
      "\u001b[?25hDownloading pyparsing-3.2.3-py3-none-any.whl (111 kB)\n",
      "Installing collected packages: pyparsing, pillow, kiwisolver, importlib-resources, fonttools, cycler, contourpy, matplotlib\n",
      "\u001b[2K   \u001b[90m━━━━━━━━━━━━━━━━━━━━━━━━━━━━━━━━━━━━━━━━\u001b[0m \u001b[32m8/8\u001b[0m [matplotlib]8\u001b[0m [matplotlib]\n",
      "\u001b[1A\u001b[2KSuccessfully installed contourpy-1.3.0 cycler-0.12.1 fonttools-4.59.2 importlib-resources-6.5.2 kiwisolver-1.4.7 matplotlib-3.9.4 pillow-11.3.0 pyparsing-3.2.3\n",
      "Note: you may need to restart the kernel to use updated packages.\n"
     ]
    }
   ],
   "source": [
    "pip install matplotlib"
   ]
  },
  {
   "cell_type": "code",
   "execution_count": null,
   "metadata": {},
   "outputs": [],
   "source": [
    "# 波动率对比（ATR）"
   ]
  },
  {
   "cell_type": "code",
   "execution_count": null,
   "metadata": {},
   "outputs": [
    {
     "data": {
      "text/plain": [
       "<Axes: title={'center': '平均波动率(ATR)'}, xlabel='Symbol'>"
      ]
     },
     "execution_count": 8,
     "metadata": {},
     "output_type": "execute_result"
    },
    {
     "name": "stderr",
     "output_type": "stream",
     "text": [
      "/Users/bea/Desktop/trading_project/.venv/lib/python3.9/site-packages/IPython/core/events.py:82: UserWarning:\n",
      "\n",
      "Glyph 24179 (\\N{CJK UNIFIED IDEOGRAPH-5E73}) missing from font(s) DejaVu Sans.\n",
      "\n",
      "/Users/bea/Desktop/trading_project/.venv/lib/python3.9/site-packages/IPython/core/events.py:82: UserWarning:\n",
      "\n",
      "Glyph 22343 (\\N{CJK UNIFIED IDEOGRAPH-5747}) missing from font(s) DejaVu Sans.\n",
      "\n",
      "/Users/bea/Desktop/trading_project/.venv/lib/python3.9/site-packages/IPython/core/events.py:82: UserWarning:\n",
      "\n",
      "Glyph 27874 (\\N{CJK UNIFIED IDEOGRAPH-6CE2}) missing from font(s) DejaVu Sans.\n",
      "\n",
      "/Users/bea/Desktop/trading_project/.venv/lib/python3.9/site-packages/IPython/core/events.py:82: UserWarning:\n",
      "\n",
      "Glyph 21160 (\\N{CJK UNIFIED IDEOGRAPH-52A8}) missing from font(s) DejaVu Sans.\n",
      "\n",
      "/Users/bea/Desktop/trading_project/.venv/lib/python3.9/site-packages/IPython/core/events.py:82: UserWarning:\n",
      "\n",
      "Glyph 29575 (\\N{CJK UNIFIED IDEOGRAPH-7387}) missing from font(s) DejaVu Sans.\n",
      "\n",
      "/Users/bea/Desktop/trading_project/.venv/lib/python3.9/site-packages/IPython/core/pylabtools.py:152: UserWarning:\n",
      "\n",
      "Glyph 24179 (\\N{CJK UNIFIED IDEOGRAPH-5E73}) missing from font(s) DejaVu Sans.\n",
      "\n",
      "/Users/bea/Desktop/trading_project/.venv/lib/python3.9/site-packages/IPython/core/pylabtools.py:152: UserWarning:\n",
      "\n",
      "Glyph 22343 (\\N{CJK UNIFIED IDEOGRAPH-5747}) missing from font(s) DejaVu Sans.\n",
      "\n",
      "/Users/bea/Desktop/trading_project/.venv/lib/python3.9/site-packages/IPython/core/pylabtools.py:152: UserWarning:\n",
      "\n",
      "Glyph 27874 (\\N{CJK UNIFIED IDEOGRAPH-6CE2}) missing from font(s) DejaVu Sans.\n",
      "\n",
      "/Users/bea/Desktop/trading_project/.venv/lib/python3.9/site-packages/IPython/core/pylabtools.py:152: UserWarning:\n",
      "\n",
      "Glyph 21160 (\\N{CJK UNIFIED IDEOGRAPH-52A8}) missing from font(s) DejaVu Sans.\n",
      "\n",
      "/Users/bea/Desktop/trading_project/.venv/lib/python3.9/site-packages/IPython/core/pylabtools.py:152: UserWarning:\n",
      "\n",
      "Glyph 29575 (\\N{CJK UNIFIED IDEOGRAPH-7387}) missing from font(s) DejaVu Sans.\n",
      "\n"
     ]
    },
    {
     "data": {
      "image/png": "[encoded data removed]",
      "text/plain": [
       "<Figure size 640x480 with 1 Axes>"
      ]
     },
     "metadata": {},
     "output_type": "display_data"
    }
   ],
   "source": [
    "atr_summary = data.groupby(\"Symbol\")[\"ATR\"].mean().reset_index()\n",
    "atr_summary.plot(kind=\"bar\", x=\"Symbol\", y=\"ATR\", title=\"平均波动率(ATR)\")"
   ]
  },
  {
   "cell_type": "code",
   "execution_count": null,
   "metadata": {},
   "outputs": [],
   "source": [
    "# RSI 信号对比"
   ]
  },
  {
   "cell_type": "code",
   "execution_count": 9,
   "metadata": {},
   "outputs": [
    {
     "name": "stderr",
     "output_type": "stream",
     "text": [
      "/Users/bea/Desktop/trading_project/.venv/lib/python3.9/site-packages/IPython/core/pylabtools.py:152: UserWarning:\n",
      "\n",
      "Glyph 20449 (\\N{CJK UNIFIED IDEOGRAPH-4FE1}) missing from font(s) DejaVu Sans.\n",
      "\n",
      "/Users/bea/Desktop/trading_project/.venv/lib/python3.9/site-packages/IPython/core/pylabtools.py:152: UserWarning:\n",
      "\n",
      "Glyph 21495 (\\N{CJK UNIFIED IDEOGRAPH-53F7}) missing from font(s) DejaVu Sans.\n",
      "\n"
     ]
    },
    {
     "data": {
      "image/png": "[encoded data removed]",
      "text/plain": [
       "<Figure size 1000x400 with 1 Axes>"
      ]
     },
     "metadata": {},
     "output_type": "display_data"
    }
   ],
   "source": [
    "import matplotlib.pyplot as plt\n",
    "\n",
    "df = data[data[\"Symbol\"]==\"TSLA\"]\n",
    "plt.figure(figsize=(10,4))\n",
    "plt.plot(df[\"Date\"], df[\"RSI\"])\n",
    "plt.axhline(70, color=\"red\", linestyle=\"--\")\n",
    "plt.axhline(30, color=\"green\", linestyle=\"--\")\n",
    "plt.title(\"RSI 信号 - TSLA\")\n",
    "plt.show()\n"
   ]
  },
  {
   "cell_type": "markdown",
   "metadata": {},
   "source": [
    "## 🎯 Conclusion\n",
    "\n",
    "- **Tech/Growth Stocks (AAPL, TSLA, NVDA, AMZN, META, NFLX)**  \n",
    "  → More suitable for **Scalping** because of their higher volatility and liquidity.  \n",
    "\n",
    "- **Blue-Chip/Stable Stocks (JNJ, KO, PG)**  \n",
    "  → More suitable for **Buy & Hold** due to lower volatility and fewer short-term opportunities.  \n"
   ]
  },
  {
   "cell_type": "markdown",
   "metadata": {},
   "source": []
  }
 ],
 "metadata": {
  "kernelspec": {
   "display_name": ".venv",
   "language": "python",
   "name": "python3"
  },
  "language_info": {
   "codemirror_mode": {
    "name": "ipython",
    "version": 3
   },
   "file_extension": ".py",
   "mimetype": "text/x-python",
   "name": "python",
   "nbconvert_exporter": "python",
   "pygments_lexer": "ipython3",
   "version": "3.9.6"
  }
 },
 "nbformat": 4,
 "nbformat_minor": 2
}
